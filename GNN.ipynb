{
 "cells": [
  {
   "cell_type": "code",
   "execution_count": 23,
   "metadata": {},
   "outputs": [],
   "source": [
    "import numpy as np\n",
    "import torch\n",
    "import dgl\n",
    "\n",
    "from rdkit import Chem\n",
    "from rdkit.Chem import AllChem\n",
    "from tdc.single_pred import ADME"
   ]
  },
  {
   "cell_type": "markdown",
   "metadata": {},
   "source": [
    "# 1. dataset"
   ]
  },
  {
   "cell_type": "code",
   "execution_count": 24,
   "metadata": {},
   "outputs": [
    {
     "name": "stderr",
     "output_type": "stream",
     "text": [
      "Found local copy...\n",
      "Loading...\n",
      "Done!\n"
     ]
    }
   ],
   "source": [
    "dataset = ADME(name = 'Solubility_AqSolDB')"
   ]
  },
  {
   "cell_type": "code",
   "execution_count": 25,
   "metadata": {},
   "outputs": [],
   "source": [
    "split = dataset.get_split(\n",
    "    method = 'random',\n",
    "    seed = 42,\n",
    "    frac=[0.7, 0.1, 0.2]\n",
    ")\n",
    "\n",
    "train_set = split['train']\n",
    "valid_set = split['valid']\n",
    "test_set = split['test']"
   ]
  },
  {
   "cell_type": "code",
   "execution_count": 26,
   "metadata": {},
   "outputs": [],
   "source": [
    "smi_train = list(train_set['Drug'])\n",
    "label_train = list(train_set['Y'])"
   ]
  },
  {
   "cell_type": "markdown",
   "metadata": {},
   "source": [
    "# 2. Visualize molecules"
   ]
  },
  {
   "cell_type": "code",
   "execution_count": 27,
   "metadata": {},
   "outputs": [
    {
     "data": {
      "image/png": "[encoded data removed]",
      "text/plain": [
       "<rdkit.Chem.rdchem.Mol at 0x1784d8040>"
      ]
     },
     "execution_count": 27,
     "metadata": {},
     "output_type": "execute_result"
    }
   ],
   "source": [
    "mol = Chem.MolFromSmiles(smi_train[0])\n",
    "mol"
   ]
  },
  {
   "cell_type": "markdown",
   "metadata": {},
   "source": [
    "# 3.Investigate how can we featurize molecular structure\n",
    "\n",
    "### 1) Atom (node) features\n",
    "\n",
    "    - atom symbol\n",
    "    - Atom degree\n",
    "    - Number of hydrogens attached to a given atom\n",
    "    - Implicit valence\n",
    "    - Whether a given atom has an aromatic character or not"
   ]
  },
  {
   "cell_type": "code",
   "execution_count": 28,
   "metadata": {},
   "outputs": [
    {
     "name": "stdout",
     "output_type": "stream",
     "text": [
      "13\n",
      "O\n",
      "1\n",
      "0\n",
      "0\n",
      "False\n"
     ]
    }
   ],
   "source": [
    "atom_list = mol.GetAtoms()\n",
    "num_atoms = len(atom_list)\n",
    "atom_ = atom_list[0]\n",
    "\n",
    "atom_symbol = atom_.GetSymbol()\n",
    "atom_degree = atom_.GetDegree()\n",
    "atom_hydrogens = atom_.GetTotalNumHs()\n",
    "atom_implicit_valence = atom_.GetImplicitValence()\n",
    "atom_is_aromatic = atom_.GetIsAromatic()\n",
    "\n",
    "print(num_atoms)\n",
    "print(atom_symbol)\n",
    "print(atom_degree)\n",
    "print(atom_hydrogens)\n",
    "print(atom_implicit_valence)\n",
    "print(atom_is_aromatic)"
   ]
  },
  {
   "cell_type": "markdown",
   "metadata": {},
   "source": [
    "### 2) bond(edge) features\n",
    "\n",
    "    - Bond types -- Single, Double, Triple, Aromatic\n",
    "    - Wheter a given bond is conjugated or not\n",
    "    - Whether a given bond has a ring character"
   ]
  },
  {
   "cell_type": "code",
   "execution_count": 29,
   "metadata": {},
   "outputs": [
    {
     "name": "stdout",
     "output_type": "stream",
     "text": [
      "DOUBLE\n",
      "True\n",
      "False\n"
     ]
    }
   ],
   "source": [
    "bond_list = mol.GetBonds()\n",
    "num_bonds = len(bond_list)\n",
    "bond_ = bond_list[0]\n",
    "\n",
    "bond_type = bond_.GetBondType()\n",
    "bond_is_conj = bond_.GetIsConjugated()\n",
    "bond_is_ring = bond_.IsInRing()\n",
    "\n",
    "print(bond_type)\n",
    "print(bond_is_conj)\n",
    "print(bond_is_ring)"
   ]
  },
  {
   "cell_type": "markdown",
   "metadata": {},
   "source": [
    "# 4. Put them altogether -- define a series of functions that featurize molecular graph"
   ]
  },
  {
   "cell_type": "code",
   "execution_count": 30,
   "metadata": {},
   "outputs": [],
   "source": [
    "ATOM_VOCAB = [\n",
    "    'C', 'N', 'O', 'S', 'F',\n",
    "    'H', 'Si', 'P', 'Cl', 'Br',\n",
    "    'Li', 'Na', 'K', 'Mg', 'Ca',\n",
    "    'Fe', 'As', 'Al', 'I', 'B',\n",
    "    'V', 'Tl', 'Sb', 'Sn', 'Ag',\n",
    "    'Pd', 'Co', 'Se', 'Ti', 'Zn',\n",
    "    'Ge', 'Cu', 'Au', 'Ni', 'Cd',\n",
    "    'Mn', 'Cr', 'Pt', 'Hg', 'Pb',\n",
    "]"
   ]
  },
  {
   "cell_type": "code",
   "execution_count": 31,
   "metadata": {},
   "outputs": [],
   "source": [
    "def one_of_k_encoding(x, vocab):\n",
    "    if x not in vocab:\n",
    "        x = vocab[-1]\n",
    "\n",
    "    return list(map(lambda s : float(x==s), vocab))"
   ]
  },
  {
   "cell_type": "code",
   "execution_count": 37,
   "metadata": {},
   "outputs": [],
   "source": [
    "def get_atom_feature(atom):\n",
    "    atom_feature = one_of_k_encoding(atom.GetSymbol(), ATOM_VOCAB) # 만약 atom == c 이면 [1, 0, 0, 0, ...] 반환됨\n",
    "    atom_feature += one_of_k_encoding(atom.GetDegree(), [0, 1, 2, 3, 4, 5])\n",
    "    atom_feature += one_of_k_encoding(atom.GetTotalNumHs(), [0, 1, 2, 3, 4])\n",
    "    atom_feature += one_of_k_encoding(atom.GetImplicitValence(), [0, 1, 2, 3, 4, 5])\n",
    "    atom_feature += [atom.GetIsAromatic()]\n",
    "\n",
    "    return atom_feature"
   ]
  },
  {
   "cell_type": "code",
   "execution_count": 33,
   "metadata": {},
   "outputs": [],
   "source": [
    "def get_bond_feature(bond):\n",
    "    bt = bond.GetBondType()\n",
    "    bond_feature = [\n",
    "        bt == Chem.rdchem.BondType.SINGLE,\n",
    "        bt == Chem.rdchem.BondType.DOUBLE,\n",
    "        bt == Chem.rdchem.BondType.TRIPLE,\n",
    "        bt == Chem.rdchem.BondType.AROMATIC,\n",
    "        bond.GetIsConjugated(),\n",
    "        bond.IsInRing()\n",
    "    ]\n",
    "\n",
    "    return bond_feature"
   ]
  },
  {
   "cell_type": "markdown",
   "metadata": {},
   "source": [
    "### DGLGraph 사용하기\n",
    "\n",
    "dgl.DGLGraph() : 그래프 생성\n",
    "\n",
    "graph.add_nodes( node_num:int ) : node_num 만큼 노드 생성\n",
    "\n",
    "graph.ndata['key'] : 노드 특성을 저장하는 딕셔너리. 각 키는 노드 특성의 이름 / value는 tensor형태로 저장\n",
    "\n",
    "graph.edata['key'] : 엣지 특성을 저장하는 딕셔너리. 각 키는 엣지 특성의 이름 / value는 tensor 형태로 저장\n",
    "\n",
    "graph.add_edge(start_node_idx, end_node_idx) : 두 노드를 연결해줌\n",
    "\n"
   ]
  },
  {
   "cell_type": "code",
   "execution_count": 41,
   "metadata": {},
   "outputs": [],
   "source": [
    "def get_molecular_graph(smi):\n",
    "    mol = Chem.MolFromSmiles(smi)\n",
    "    graph = dgl.DGLGraph()\n",
    "\n",
    "    # atom 에대한 feature를 tensor로 만들어서 graph.ndata['h']에 저장\n",
    "    atom_list = mol.GetAtoms()\n",
    "    num_atoms = len(atom_list)\n",
    "    graph.add_nodes(num_atoms) # atom 개수 만큼 노드 추가\n",
    "\n",
    "    atom_feature_list = [get_atom_feature(atom) for atom in atom_list] # [[1, 0, ...], ... (atom 개수만큼)]\n",
    "    atom_feature_tensor = torch.tensor(atom_feature_list, dtype=torch.float64) # 위 리스트를 tensor로 바꾸네\n",
    "    graph.ndata['h'] = atom_feature_tensor \n",
    "\n",
    "\n",
    "    # bond에 대한 feature를 tensor로 만들어서 graph.edata['e_ij']에 저장\n",
    "    bond_list = mol.GetBonds()\n",
    "    bond_feature_list = []\n",
    "\n",
    "    for bond in bond_list:\n",
    "        bond_feature = get_bond_feature(bond) # [1, 0, 0 ,0 ,0 ] 과 같은 값 반환 : bond type에 따라 1값이 하나 있는 onehot\n",
    "\n",
    "        src = bond.GetBeginAtom().GetIdx()\n",
    "        dest = bond.GetEndAtom().GetIdx()\n",
    "        \n",
    "        # i --> j\n",
    "        graph.add_edges(src, dest)\n",
    "        bond_feature_list.append(bond_feature)\n",
    "\n",
    "        # j --> i\n",
    "        graph.add_edges(dest, src)\n",
    "        bond_feature_list.append(bond_feature)\n",
    "\n",
    "    bond_feature_tensor = torch.tensor(bond_feature_list, dtype=torch.float64) \n",
    "    graph.edata['e_ij'] = bond_feature_tensor\n",
    "    return graph\n"
   ]
  },
  {
   "cell_type": "code",
   "execution_count": 42,
   "metadata": {},
   "outputs": [],
   "source": [
    "smi_ = smi_train[-1]\n",
    "g_ = get_molecular_graph(smi_)"
   ]
  },
  {
   "cell_type": "markdown",
   "metadata": {},
   "source": [
    "# GNN Practice\n",
    "\n",
    "# 1. GCN, GIN and GIN + E"
   ]
  },
  {
   "cell_type": "code",
   "execution_count": 43,
   "metadata": {},
   "outputs": [],
   "source": [
    "import torch.nn as nn\n",
    "import torch.nn.functional as F\n",
    "\n",
    "import dgl.function as fn\n",
    "from dgl.nn.functional import edge_softmax"
   ]
  },
  {
   "cell_type": "code",
   "execution_count": 45,
   "metadata": {},
   "outputs": [
    {
     "name": "stdout",
     "output_type": "stream",
     "text": [
      "torch.Size([11, 64])\n",
      "torch.Size([22, 6])\n"
     ]
    }
   ],
   "source": [
    "print(g_.ndata['h'].shape)\n",
    "print(g_.edata['e_ij'].shape)"
   ]
  },
  {
   "cell_type": "code",
   "execution_count": 47,
   "metadata": {},
   "outputs": [],
   "source": [
    "## 차원을 맞추기 위한 embedding node 와 embedding edge\n",
    "\n",
    "embedding_node = nn.Linear(64, 64, bias=False)\n",
    "embedding_edge = nn.Linear(6, 64, bias=False)\n",
    "\n",
    "h0 = embedding_node(g_.ndata['h'].float()) # [11, 64] # tensor로 표현된 화합물을 구성하는 원소들\n",
    "g_.ndata['h'] = h0 # [64, 64]\n",
    "\n",
    "e_ij = embedding_edge(g_.edata['e_ij'].float()) # [22, 6]\n",
    "g_.edata['e_ij'] = e_ij # [22, 64]"
   ]
  },
  {
   "cell_type": "markdown",
   "metadata": {},
   "source": [
    "## 1) Graph Convolution\n",
    "\n",
    "#### u_ : sum aggregation of the adjacent node features"
   ]
  },
  {
   "cell_type": "code",
   "execution_count": 49,
   "metadata": {},
   "outputs": [
    {
     "data": {
      "text/plain": [
       "torch.Size([11, 64])"
      ]
     },
     "execution_count": 49,
     "metadata": {},
     "output_type": "execute_result"
    }
   ],
   "source": [
    "g_.update_all(fn.copy_u('h', 'm'), fn.sum('m', 'u_'))  # 연결 된 것을 sum 연산해서 노드 tensor를 업데이트\n",
    "u_ = g_.ndata['u_']\n",
    "u_.shape"
   ]
  },
  {
   "cell_type": "markdown",
   "metadata": {},
   "source": [
    "#### Applying linear layer, non-linear activation, layer normalization, and dropout"
   ]
  },
  {
   "cell_type": "code",
   "execution_count": 50,
   "metadata": {},
   "outputs": [],
   "source": [
    "linear_ = nn.Linear(64, 64, bias=False)\n",
    "norm_ = nn.LayerNorm(64)\n",
    "act_ = F.relu\n",
    "prob_ = 0.2"
   ]
  },
  {
   "cell_type": "code",
   "execution_count": 51,
   "metadata": {},
   "outputs": [],
   "source": [
    "h_ = linear_(u_)\n",
    "h_ = act_(h_) + h0\n",
    "h_ = norm_(h_)\n",
    "h_ = F.dropout(h_, p=prob_, training=False)"
   ]
  },
  {
   "cell_type": "code",
   "execution_count": null,
   "metadata": {},
   "outputs": [],
   "source": [
    "# g_.ndata['h'] = h_ # 업데이트 하는 부분인데 다른 실습해야 해서 실행은 안함."
   ]
  },
  {
   "cell_type": "markdown",
   "metadata": {},
   "source": [
    "## 2) Graph Isomorphism"
   ]
  },
  {
   "cell_type": "code",
   "execution_count": 61,
   "metadata": {},
   "outputs": [],
   "source": [
    "class MLP(nn.Module):\n",
    "    def __init__(self, input_dim, hidden_dim, output_dim, bias=True, act=F.relu):\n",
    "        super().__init__()\n",
    "\n",
    "        self.input_dim = input_dim\n",
    "        self.hidden_dim = hidden_dim\n",
    "        self.output_dim = output_dim\n",
    "\n",
    "        self.act = act\n",
    "\n",
    "        self.linear1 = nn.Linear(input_dim, hidden_dim, bias=bias)\n",
    "        self.linear2 = nn.Linear(hidden_dim, output_dim, bias=bias)\n",
    "\n",
    "    def forward(self, h):\n",
    "        h = self.linear1(h)\n",
    "        h = self.act(h)\n",
    "        h = self.linear2(h)\n",
    "        return h"
   ]
  },
  {
   "cell_type": "code",
   "execution_count": 60,
   "metadata": {},
   "outputs": [
    {
     "data": {
      "text/plain": [
       "torch.Size([11, 64])"
      ]
     },
     "execution_count": 60,
     "metadata": {},
     "output_type": "execute_result"
    }
   ],
   "source": [
    "g_.update_all(fn.copy_u('h', 'm'), fn.sum('m', 'u_'))\n",
    "u_ = g_.ndata['u_']\n",
    "u_.shape"
   ]
  },
  {
   "cell_type": "code",
   "execution_count": 63,
   "metadata": {},
   "outputs": [],
   "source": [
    "mlp_ = MLP(\n",
    "    input_dim=64,\n",
    "    hidden_dim = 64 * 4,\n",
    "    output_dim = 64\n",
    ")\n",
    "norm_ = nn.LayerNorm(64)\n",
    "act_ = F.relu\n",
    "prob_ = 0.2"
   ]
  },
  {
   "cell_type": "code",
   "execution_count": 65,
   "metadata": {},
   "outputs": [],
   "source": [
    "h_ = mlp_(u_)\n",
    "h_ = act_(h_) + h0\n",
    "h_ = norm_(h_)\n",
    "h_ = F.dropout(h_, p=prob_, training=False)"
   ]
  },
  {
   "cell_type": "markdown",
   "metadata": {},
   "source": [
    "## 3) Graph Isomorphism w/ edge features"
   ]
  },
  {
   "cell_type": "code",
   "execution_count": 66,
   "metadata": {},
   "outputs": [
    {
     "data": {
      "text/plain": [
       "torch.Size([11, 64])"
      ]
     },
     "execution_count": 66,
     "metadata": {},
     "output_type": "execute_result"
    }
   ],
   "source": [
    "g_.update_all(fn.copy_u('h', 'm'), fn.sum('m', 'u_'))\n",
    "u_ = g_.ndata['u_']\n",
    "u_.shape"
   ]
  },
  {
   "cell_type": "code",
   "execution_count": 92,
   "metadata": {},
   "outputs": [
    {
     "name": "stdout",
     "output_type": "stream",
     "text": [
      "torch.Size([22, 64])\n",
      "torch.Size([11, 64])\n",
      "torch.Size([11, 64])\n"
     ]
    }
   ],
   "source": [
    "g_.update_all(fn.copy_e('e_ij', 'm_e'), fn.sum('m_e', 'e_'))\n",
    "\n",
    "print(g_.edata['e_ij'].shape)\n",
    "print(g_.ndata['e_'].shape)\n",
    "print(g_.ndata['u_'].shape)"
   ]
  },
  {
   "cell_type": "code",
   "execution_count": 79,
   "metadata": {},
   "outputs": [],
   "source": [
    "h_ = g_.ndata['u_'] + g_.ndata['e_']\n",
    "h_ = mlp_(u_)\n",
    "h_ = act_(h_) + h0\n",
    "h_ = F.dropout(h_, p=prob_, training=False)"
   ]
  },
  {
   "cell_type": "code",
   "execution_count": 88,
   "metadata": {},
   "outputs": [
    {
     "name": "stdout",
     "output_type": "stream",
     "text": [
      "tensor([[1., 0., 1., 0.],\n",
      "        [0., 1., 1., 0.]])\n",
      "tensor([[0., 0., 0., 0.],\n",
      "        [1., 0., 1., 0.],\n",
      "        [0., 1., 1., 0.]])\n"
     ]
    }
   ],
   "source": [
    "import dgl\n",
    "import torch\n",
    "import dgl.function as fn\n",
    "\n",
    "# 그래프 생성\n",
    "g = dgl.graph((torch.tensor([0, 1]), torch.tensor([1, 2])))\n",
    "\n",
    "# 엣지 데이터 설정\n",
    "g.edata['e_ij'] = torch.tensor([[1, 0, 1, 0], [0, 1, 1, 0]], dtype=torch.float32)\n",
    "\n",
    "# update_all 함수 적용\n",
    "g.update_all(fn.copy_e('e_ij', 'm_e'), fn.sum('m_e', 'e_'))\n",
    "\n",
    "# 결과 출력\n",
    "print(g.edata['e_ij'])\n",
    "print(g.ndata['e_'])\n"
   ]
  },
  {
   "cell_type": "code",
   "execution_count": 5,
   "metadata": {},
   "outputs": [
    {
     "name": "stdout",
     "output_type": "stream",
     "text": [
      "tensor([[ 4.,  6.],\n",
      "        [ 8., 10.],\n",
      "        [12., 14.]])\n"
     ]
    }
   ],
   "source": [
    "import dgl\n",
    "import torch\n",
    "import dgl.function as fn\n",
    "\n",
    "# 간단한 그래프 생성\n",
    "u, v = torch.tensor([0, 1, 2]), torch.tensor([1, 2, 3])\n",
    "g = dgl.graph((u, v))\n",
    "\n",
    "# 노드 특징 정의\n",
    "g.ndata['h'] = torch.tensor([[1., 2.], [3., 4.], [5., 6.], [7., 8.]])\n",
    "\n",
    "# 엣지 데이터 업데이트\n",
    "g.apply_edges(fn.u_add_v('h', 'h', 'e'))\n",
    "\n",
    "print(g.edata['e'])\n"
   ]
  },
  {
   "cell_type": "code",
   "execution_count": 11,
   "metadata": {},
   "outputs": [
    {
     "data": {
      "text/plain": [
       "('2.3.0', '0.18.1', '0.18.0')"
      ]
     },
     "execution_count": 11,
     "metadata": {},
     "output_type": "execute_result"
    }
   ],
   "source": [
    "import torch \n",
    "import torchvision\n",
    "import torchtext\n",
    "\n",
    "torch.__version__, torchvision.__version__, torchtext.__version__"
   ]
  },
  {
   "cell_type": "code",
   "execution_count": 12,
   "metadata": {},
   "outputs": [
    {
     "data": {
      "text/plain": [
       "tensor([1, 2, 3, 4], device='mps:0')"
      ]
     },
     "execution_count": 12,
     "metadata": {},
     "output_type": "execute_result"
    }
   ],
   "source": [
    "a = torch.tensor([1, 2, 3, 4]).to(\"mps\")\n",
    "a"
   ]
  },
  {
   "cell_type": "code",
   "execution_count": 13,
   "metadata": {},
   "outputs": [
    {
     "data": {
      "text/plain": [
       "True"
      ]
     },
     "execution_count": 13,
     "metadata": {},
     "output_type": "execute_result"
    }
   ],
   "source": [
    "torch.backends.mps.is_available()"
   ]
  },
  {
   "cell_type": "code",
   "execution_count": null,
   "metadata": {},
   "outputs": [],
   "source": []
  }
 ],
 "metadata": {
  "kernelspec": {
   "display_name": "base",
   "language": "python",
   "name": "python3"
  },
  "language_info": {
   "codemirror_mode": {
    "name": "ipython",
    "version": 3
   },
   "file_extension": ".py",
   "mimetype": "text/x-python",
   "name": "python",
   "nbconvert_exporter": "python",
   "pygments_lexer": "ipython3",
   "version": "3.1.-1"
  }
 },
 "nbformat": 4,
 "nbformat_minor": 2
}
